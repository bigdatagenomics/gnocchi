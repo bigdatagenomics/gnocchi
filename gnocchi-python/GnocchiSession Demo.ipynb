{
 "cells": [
  {
   "cell_type": "markdown",
   "metadata": {},
   "source": [
    "# PyGnocchi"
   ]
  },
  {
   "cell_type": "markdown",
   "metadata": {},
   "source": [
    "Statistical associations using the ADAM genomics analysis platform. The currently supported operations are Genome Wide Association using Linear and Logistic models with either Dominant or Additive assumptions."
   ]
  },
  {
   "cell_type": "markdown",
   "metadata": {},
   "source": [
    "## Installation and Usage"
   ]
  },
  {
   "cell_type": "markdown",
   "metadata": {},
   "source": [
    "(TODO) Make this a pip package\n",
    "\n",
    "Download the Gnocchi [source code](https://github.com/nathanielparke/gnocchi) and package the project\n",
    "``` mvn package ```\n",
    "\n",
    "Start a virtual environment and build the Python files\n",
    "``` \n",
    "virtualenv gnocchi\n",
    ". gnocchi/bin/activate\n",
    "mvn -Ppython package\n",
    "```\n",
    "\n",
    "Start a Jupyter notebook by running the Pygnocchi script\n",
    "```\n",
    ". bin/pygnocchi-notebook\n",
    "```"
   ]
  },
  {
   "cell_type": "markdown",
   "metadata": {},
   "source": [
    "## Using GnocchiSession"
   ]
  },
  {
   "cell_type": "code",
   "execution_count": 3,
   "metadata": {},
   "outputs": [],
   "source": [
    "from bdgenomics.gnocchi.core.gnocchiSession import GnocchiSession\n",
    "from bdgenomics.gnocchi.models.linearGnocchiModel import LinearGnocchiModel\n",
    "from bdgenomics.gnocchi.models.logisticGnocchiModel import LogisticGnocchiModel\n",
    "from bdgenomics.gnocchi.core.regressPhenotypes import RegressPhenotypes"
   ]
  },
  {
   "cell_type": "code",
   "execution_count": 2,
   "metadata": {},
   "outputs": [],
   "source": [
    "genotypesPath = \"../examples/testData/1snp10samples.vcf\"\n",
    "phenotypesPath = \"../examples/testData/10samples1Phenotype.txt\""
   ]
  },
  {
   "cell_type": "markdown",
   "metadata": {},
   "source": [
    "## Create GnocchiSession in Python"
   ]
  },
  {
   "cell_type": "markdown",
   "metadata": {},
   "source": [
    "`GnocchiSession` handles a lot of the pipelining functionality with regards to loading and preparing raw genotype and phenotype data"
   ]
  },
  {
   "cell_type": "code",
   "execution_count": 3,
   "metadata": {},
   "outputs": [],
   "source": [
    "gs = GnocchiSession(spark)"
   ]
  },
  {
   "cell_type": "code",
   "execution_count": 4,
   "metadata": {},
   "outputs": [],
   "source": [
    "# Returns CalledVariantDataset which is a Python wrapper\n",
    "# around a Scala Dataset[CalledVariant]\n",
    "genos = gs.loadGenotypes(genotypesPath)\n",
    "phenos = gs.loadPhenotypes(phenotypesPath, \"SampleID\", \"pheno1\", \"\\t\")"
   ]
  },
  {
   "cell_type": "markdown",
   "metadata": {},
   "source": [
    "## Build a LinearGnocchiModel"
   ]
  },
  {
   "cell_type": "markdown",
   "metadata": {},
   "source": [
    "We can use the loaded genotypes and phenotypes to build a GnocchiModel which packages all the GWAS outputs and be merged with other models."
   ]
  },
  {
   "cell_type": "code",
   "execution_count": 5,
   "metadata": {},
   "outputs": [],
   "source": [
    "lgm = LinearGnocchiModel.New(spark, genos, phenos, [\"AD\"], [\"GI\"])"
   ]
  },
  {
   "cell_type": "markdown",
   "metadata": {},
   "source": [
    "## Regress Phenotypes on full data"
   ]
  },
  {
   "cell_type": "markdown",
   "metadata": {},
   "source": [
    "While GnocchiModels do provide functionality for packaging the operations in a portable fashion, in order to directly see GWAS outputs use `RegressPhenotypes`. This essentially takes a string of arguments canonical with regular Gnocchi command line flags and runs the specified regression."
   ]
  },
  {
   "cell_type": "code",
   "execution_count": 6,
   "metadata": {},
   "outputs": [],
   "source": [
    "rp = RegressPhenotypes(spark)\n",
    "rp.apply(\"../examples/testData/1snp10samples.vcf ../examples/testData/10samples1Phenotype.txt ADDITIVE_LINEAR ../examples/testData/DELETEME -saveAsText -sampleIDName SampleID -phenoName pheno1 -overwriteParquet\")"
   ]
  },
  {
   "cell_type": "code",
   "execution_count": 1,
   "metadata": {},
   "outputs": [],
   "source": [
    "# Verify that the Python run regression is concordant \n",
    "# with the results of the gnocchi CLI \n",
    "! bash ../bin/gnocchi-submit regressPhenotypes ../examples/testData/1snp10samples.vcf ../examples/testData/10samples1Phenotype.txt ADDITIVE_LINEAR ../examples/testData/DELETEME2 -saveAsText -sampleIDName SampleID -phenoName pheno1 -overwriteParquet"
   ]
  },
  {
   "cell_type": "code",
   "execution_count": 2,
   "metadata": {},
   "outputs": [],
   "source": [
    "# Verify the files are identifical\n",
    "! diff ../examples/testData/DELETEME/part-00000-fab16dec-e163-448c-a5f5-be921bf52584-c000.csv ../examples/testData/DELETEME2/part-00000-8cf524fc-b4a4-43a2-85b7-26822a089110-c000.csv"
   ]
  },
  {
   "cell_type": "markdown",
   "metadata": {},
   "source": [
    "## Filter out variants"
   ]
  },
  {
   "cell_type": "markdown",
   "metadata": {},
   "source": [
    "In addition to just loading genotypes and phenotypes, GnocchiSession can also filter variants and samples. The API is the same for the Scala shell and we verify that the Datasets output have reasonable properties."
   ]
  },
  {
   "cell_type": "code",
   "execution_count": 9,
   "metadata": {},
   "outputs": [],
   "source": [
    "filteredGenos = gs.filterVariants(genos, 0.0, 0.5)\n",
    "unfilteredGenos = gs.filterVariants(genos, 0.0, 0.0)"
   ]
  },
  {
   "cell_type": "code",
   "execution_count": 10,
   "metadata": {},
   "outputs": [],
   "source": [
    "assert genos.get().count() != filteredGenos.get().count(), \"Counts are same\"\n",
    "assert filteredGenos.get().count() == 0, \"All items not filtered out\""
   ]
  },
  {
   "cell_type": "code",
   "execution_count": 11,
   "metadata": {},
   "outputs": [],
   "source": [
    "assert genos.get().count() == unfilteredGenos.get().count(), \"Counts are same\""
   ]
  },
  {
   "cell_type": "markdown",
   "metadata": {},
   "source": [
    "## Another example with filter samples"
   ]
  },
  {
   "cell_type": "markdown",
   "metadata": {},
   "source": [
    "Here we replicate the Gnocchi Scala example involving the time dataset (`time_genos_1.vcf` and `tab_time_phenos.txt`) as it demonstrates the full suite of GnocchiSession functionality. We load phenotypes and genotypes, we then filter the samples and pass those into a filter by variant. We can access the underlying Dataset and verify the output."
   ]
  },
  {
   "cell_type": "code",
   "execution_count": 12,
   "metadata": {},
   "outputs": [],
   "source": [
    "genotypesPath = \"../examples/testData/time_genos_1.vcf\"\n",
    "phenotypesPath = \"../examples/testData/tab_time_phenos_1.txt\""
   ]
  },
  {
   "cell_type": "code",
   "execution_count": 13,
   "metadata": {},
   "outputs": [],
   "source": [
    "geno = gs.loadGenotypes(genotypesPath)\n",
    "pheno = gs.loadPhenotypes(phenotypesPath, \"IID\", \"pheno_1\", \"\\t\", phenotypesPath, [\"pheno_4\", \"pheno_5\"])"
   ]
  },
  {
   "cell_type": "code",
   "execution_count": 14,
   "metadata": {},
   "outputs": [],
   "source": [
    "filteredGenos = gs.filterSamples(geno, 0.1, 2)\n",
    "filteredGenosVariants = gs.filterVariants(filteredGenos, 0.1, 0.1)"
   ]
  },
  {
   "cell_type": "code",
   "execution_count": 15,
   "metadata": {},
   "outputs": [],
   "source": [
    "assert filteredGenosVariants.get().head().position() == 75094266"
   ]
  },
  {
   "cell_type": "markdown",
   "metadata": {},
   "source": [
    "## Accessing Dataset operations"
   ]
  },
  {
   "cell_type": "markdown",
   "metadata": {},
   "source": [
    "Of particular convenience is the fact that we can run Scala dataset operations on the Python-wrapped CalledVariantDataset objects, because the underlying Datasets have been exposed from the JVM to Python"
   ]
  },
  {
   "cell_type": "code",
   "execution_count": 24,
   "metadata": {},
   "outputs": [],
   "source": [
    "calledVariant = filteredGenosVariants.get().head()"
   ]
  },
  {
   "cell_type": "code",
   "execution_count": 3,
   "metadata": {},
   "outputs": [],
   "source": [
    "print(\"calledVariant.chromosome =\", calledVariant.chromosome())\n",
    "print(\"calledVariant.position =\", calledVariant.position())\n",
    "print(\"calledVariant.uniqueID =\", calledVariant.uniqueID())\n",
    "print(\"calledVariant.referenceAllele =\", calledVariant.referenceAllele())\n",
    "print(\"calledVariant.alternateAllele =\", calledVariant.alternateAllele())"
   ]
  }
 ],
 "metadata": {
  "kernelspec": {
   "display_name": "Python 3",
   "language": "python",
   "name": "python3"
  },
  "language_info": {
   "codemirror_mode": {
    "name": "ipython",
    "version": 3
   },
   "file_extension": ".py",
   "mimetype": "text/x-python",
   "name": "python",
   "nbconvert_exporter": "python",
   "pygments_lexer": "ipython3",
   "version": "3.5.0"
  }
 },
 "nbformat": 4,
 "nbformat_minor": 1
}
